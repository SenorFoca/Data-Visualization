{
  "nbformat": 4,
  "nbformat_minor": 0,
  "metadata": {
    "colab": {
      "provenance": [],
      "authorship_tag": "ABX9TyNpepFYlSTo2iEHG5pFXclC",
      "include_colab_link": true
    },
    "kernelspec": {
      "name": "python3",
      "display_name": "Python 3"
    },
    "language_info": {
      "name": "python"
    }
  },
  "cells": [
    {
      "cell_type": "markdown",
      "metadata": {
        "id": "view-in-github",
        "colab_type": "text"
      },
      "source": [
        "<a href=\"https://colab.research.google.com/github/SenorFoca/Data-Visualization/blob/main/Data_Preparation.ipynb\" target=\"_parent\"><img src=\"https://colab.research.google.com/assets/colab-badge.svg\" alt=\"Open In Colab\"/></a>"
      ]
    },
    {
      "cell_type": "code",
      "execution_count": 2,
      "metadata": {
        "id": "RX_BHOIccFEv"
      },
      "outputs": [],
      "source": [
        "import pandas as pd\n",
        "\n",
        "# Load the Excel file\n",
        "df = pd.read_excel('Past Delivery 10-year migration (1).xlsx', sheet_name='persons')\n",
        "\n",
        "\n",
        "# We filter the DataFrame to keep only the rows that\n",
        "#contain 'Borough Total' or 'City of London' in the 'Ward Name' column.\n",
        "df_filter = df.loc[df['ward name'].isin(['Borough Total', 'City of London'])]\n",
        "\n",
        "# Overwrite the original Excel file with the filtered DataFrame.\n",
        "df_filter.to_excel('Past Delivery 10-year migration (1).xlsx', index=False)"
      ]
    }
  ]
}